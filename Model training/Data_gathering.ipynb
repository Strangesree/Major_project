{
 "cells": [
  {
   "cell_type": "code",
   "execution_count": null,
   "metadata": {},
   "outputs": [],
   "source": [
    "pip install pandas"
   ]
  },
  {
   "cell_type": "code",
   "execution_count": 2,
   "metadata": {},
   "outputs": [],
   "source": [
    "import os\n",
    "import pandas as pd\n",
    "\n",
    "def read_signal_file(file_path):\n",
    "    data = []\n",
    "    with open(file_path, 'r') as file:\n",
    "        for line in file:\n",
    "            # Split the line by whitespace and take the first 8 columns\n",
    "            row = line.strip().split()[:8]\n",
    "            data.append(row)\n",
    "    return data"
   ]
  },
  {
   "cell_type": "code",
   "execution_count": 3,
   "metadata": {},
   "outputs": [],
   "source": [
    "def process_signal_files(folder_path):\n",
    "    signal_files = [file for file in os.listdir(folder_path) if file.endswith('.easy')]\n",
    "    data = []\n",
    "    for signal_file in signal_files:\n",
    "        file_path = os.path.join(folder_path, signal_file)\n",
    "        label = input(f\"What should be the label for '{signal_file}'? (normal/underload/overload): \").lower()\n",
    "        if label not in ['normal', 'underload', 'overload']:\n",
    "            print(\"Invalid label. Skipping file.\")\n",
    "            continue\n",
    "        signal_data = read_signal_file(file_path)\n",
    "        labeled_data = [[*row, label] for row in signal_data]\n",
    "        data.extend(labeled_data)\n",
    "    return data"
   ]
  },
  {
   "cell_type": "code",
   "execution_count": 4,
   "metadata": {},
   "outputs": [],
   "source": [
    "def gather_data(name):\n",
    "    folder_path = input(\"Enter the folder path containing .easy files: \")\n",
    "    \n",
    "    data = process_signal_files(folder_path)\n",
    "    if not data:\n",
    "        print(\"No valid data found. Exiting.\")\n",
    "        return\n",
    "    \n",
    "    df = pd.DataFrame(data, columns=['FP1', 'FP2', 'C3', 'C4', 'P7', 'P8', 'O1', 'O2', 'Label'])\n",
    "    return df"
   ]
  },
  {
   "cell_type": "code",
   "execution_count": 6,
   "metadata": {},
   "outputs": [
    {
     "name": "stdout",
     "output_type": "stream",
     "text": [
      "Gathering data from folder 0:\n",
      "Gathering data from folder 1:\n",
      "Gathering data from folder 2:\n",
      "Gathering data from folder 3:\n",
      "Gathering data from folder 4:\n",
      "Gathering data from folder 5:\n",
      "Combined data saved to 'signals_data.csv'.\n"
     ]
    }
   ],
   "source": [
    "dfs = []\n",
    "for i in range(6): \n",
    "    print(f\"Gathering data from folder {i}:\")\n",
    "    df = gather_data(i)\n",
    "    dfs.append(df)\n",
    "\n",
    "combined_df = pd.concat(dfs, ignore_index=True)\n",
    "\n",
    "output_file = 'signals_data.csv'\n",
    "combined_df.to_csv(output_file, index=False)\n",
    "print(f\"Combined data saved to '{output_file}'.\")"
   ]
  }
 ],
 "metadata": {
  "kernelspec": {
   "display_name": "myenv",
   "language": "python",
   "name": "python3"
  },
  "language_info": {
   "codemirror_mode": {
    "name": "ipython",
    "version": 3
   },
   "file_extension": ".py",
   "mimetype": "text/x-python",
   "name": "python",
   "nbconvert_exporter": "python",
   "pygments_lexer": "ipython3",
   "version": "3.11.3"
  }
 },
 "nbformat": 4,
 "nbformat_minor": 2
}
